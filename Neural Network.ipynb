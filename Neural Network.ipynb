{
 "metadata": {
  "name": "",
  "signature": "sha256:dd318c440d6a5f10bd00936df8ccdc77c6fa223c167f75c50bb38372c5ab8be2"
 },
 "nbformat": 3,
 "nbformat_minor": 0,
 "worksheets": [
  {
   "cells": [
    {
     "cell_type": "heading",
     "level": 1,
     "metadata": {},
     "source": [
      "Neural network in action"
     ]
    },
    {
     "cell_type": "markdown",
     "metadata": {},
     "source": [
      "The goal of this little example is to show how with Python it is easy to implement a simple neural network (multilayer perceptron with backpropagation) to fit various functions."
     ]
    },
    {
     "cell_type": "heading",
     "level": 2,
     "metadata": {},
     "source": [
      "1- Namespaces declaration"
     ]
    },
    {
     "cell_type": "code",
     "collapsed": false,
     "input": [
      "%matplotlib inline\n",
      "import numpy as np\n",
      "import matplotlib.pyplot as plt"
     ],
     "language": "python",
     "metadata": {},
     "outputs": [],
     "prompt_number": 8
    },
    {
     "cell_type": "heading",
     "level": 2,
     "metadata": {},
     "source": [
      "2- Functions declaration"
     ]
    },
    {
     "cell_type": "markdown",
     "metadata": {},
     "source": [
      "Here, we declare and implement two useful functions. The sigmoid function is our activation function. We could have chosen the tanh one."
     ]
    },
    {
     "cell_type": "code",
     "collapsed": false,
     "input": [
      "def sigmoid(x_input):\n",
      "    return 1 / (1 + np.exp(-x_input))\n",
      "\n",
      "\n",
      "def circle(x_in):\n",
      "    return np.sqrt(x_in[0, :]**2 + x_in[1, :]**2)"
     ],
     "language": "python",
     "metadata": {},
     "outputs": [],
     "prompt_number": 9
    },
    {
     "cell_type": "heading",
     "level": 2,
     "metadata": {},
     "source": [
      "3- Layer class implementation"
     ]
    },
    {
     "cell_type": "markdown",
     "metadata": {},
     "source": [
      "Layer class is a container to store the weights of each nodes and the bias of the current layer. The only function declared is to compute the output of the layer."
     ]
    },
    {
     "cell_type": "code",
     "collapsed": false,
     "input": [
      "class Layer:\n",
      "    def __init__(self, nb_input, nb_output, mode):\n",
      "        # Initialize weights to random values\n",
      "        # nbNode: number of nodes in the layer\n",
      "        # dim: dimension of the input vector\n",
      "        self.nb_input = nb_input\n",
      "        self.nb_output = nb_output\n",
      "        self.bias = []\n",
      "        if mode == 'random':\n",
      "            self.weights = 1 * np.random.uniform(-1, 1, (nb_output, nb_input+1))\n",
      "        elif mode == 'ones':\n",
      "            self.weights = np.ones((nb_output, nb_input+1))\n",
      "    \n",
      "    def output(self, x_input, one_dimension=False):\n",
      "        x_input = np.array(x_input)\n",
      "        if x_input.ndim == 1 and not one_dimension:\n",
      "            x_input = x_input.reshape(-1, 1)\n",
      "        self.bias = np.ones((1, x_input.shape[1]))\n",
      "        input_vector = np.concatenate((self.bias, x_input))\n",
      "        a = self.weights.dot(input_vector)\n",
      "        z = sigmoid(a)\n",
      "        return z"
     ],
     "language": "python",
     "metadata": {},
     "outputs": [],
     "prompt_number": 10
    },
    {
     "cell_type": "heading",
     "level": 2,
     "metadata": {},
     "source": [
      "4- MLP class implementation"
     ]
    },
    {
     "cell_type": "markdown",
     "metadata": {},
     "source": [
      "That's where the magic happens ! The training part of the algorithm consists to propagate forward the input signal. We then compute the error by comparison with the expected result. The error is back propagated to compute the Jacobian matrix, and finally the weigths of each layer is updated according to the gradient descent optimization algorithm. Note that we use kind of regularization here."
     ]
    },
    {
     "cell_type": "markdown",
     "metadata": {},
     "source": [
      "Various parameters can be tuned : \n",
      "<ul>\n",
      "<li> The number of layers </li>\n",
      "<li> The number of nodes inside each layer </li>\n",
      "<li> The initial weights (chosen random from a uniform distribution where we control parameters) </li>\n",
      "<li> The learning rate (critical) </li>\n",
      "<li> The regularization parameter (fine tuning to overcome overfitting) </li>"
     ]
    },
    {
     "cell_type": "code",
     "collapsed": false,
     "input": [
      "class MLP:\n",
      "    def __init__(self, topology, mode='random'):\n",
      "        # topology: an array of length equal to the number of layers.\n",
      "        # Each coordinate is the number of nodes in the layer\n",
      "        self.layers = []\n",
      "        self.layer_outputs = []\n",
      "        self.error = []\n",
      "        self.learning_rate = None\n",
      "        self.one_dimension = topology[0] == 1\n",
      "        for input_dim, output_dim in zip(topology[:-1], topology[1:]):\n",
      "            self.layers.append(Layer(input_dim, output_dim, mode))\n",
      "\n",
      "    def train(self, x_train, y_train, learning_rate=0.2):\n",
      "        x_train = np.array(x_train)\n",
      "        y_train = np.array(y_train)\n",
      "        if x_train.ndim == 1 and not self.one_dimension:\n",
      "            x_train = x_train.reshape(-1, 1)\n",
      "        if y_train.ndim == 1:\n",
      "            y_train = y_train.reshape(1, -1)\n",
      "        self.learning_rate = learning_rate\n",
      "        self.forward_propagation(x_train)\n",
      "        self.back_propagation(y_train)\n",
      "        self.update_weights()\n",
      "\n",
      "    def forward_propagation(self, x_fw):\n",
      "        x_fw = np.array(x_fw)\n",
      "        self.layer_outputs = [x_fw]\n",
      "        self.layers[0].z = x_fw\n",
      "        for layer in self.layers:\n",
      "            self.layer_outputs.append(layer.output(self.layer_outputs[-1], self.one_dimension))\n",
      "        return self.layer_outputs[-1]\n",
      "\n",
      "    def back_propagation(self, y_bw):\n",
      "        self.error = [np.concatenate((np.zeros((1, y_bw.shape[1])), self.layer_outputs[-1] - y_bw))]\n",
      "        for layer, layer_output in zip(reversed(self.layers), reversed(self.layer_outputs[:-1])):\n",
      "            layer_output = np.concatenate((layer.bias, layer_output))\n",
      "            next_error = self.error[-1][1:]\n",
      "            temp = layer.weights.T.dot(next_error) * layer_output * (1-layer_output)\n",
      "            self.error.append(temp)\n",
      "        self.error.reverse()\n",
      "\n",
      "    def update_weights(self):\n",
      "        for layer, error, layer_output in zip(self.layers, self.error[1:], self.layer_outputs[:-1]):\n",
      "            error = error[1:]\n",
      "            layer_output = np.concatenate((layer.bias, layer_output))\n",
      "            layer.weights -= self.learning_rate * error.dot(layer_output.T) \\\n",
      "                             + 0.01 * layer.weights/error.shape[1]\n",
      "\n",
      "    def output(self, x_input):\n",
      "        a = np.array(x_input)\n",
      "        if a.ndim == 1 and not self.one_dimension:\n",
      "            a = a.reshape(-1, 1)\n",
      "        for layer in self.layers:\n",
      "            a = layer.output(a)\n",
      "        return a"
     ],
     "language": "python",
     "metadata": {},
     "outputs": [],
     "prompt_number": 11
    },
    {
     "cell_type": "heading",
     "level": 2,
     "metadata": {},
     "source": [
      "5- Define the test function"
     ]
    },
    {
     "cell_type": "code",
     "collapsed": false,
     "input": [
      "def test_function(x_in):\n",
      "    return sigmoid(x_in)\n",
      "    # return x_in**3\n",
      "    # return np.sin(x_in)"
     ],
     "language": "python",
     "metadata": {},
     "outputs": [],
     "prompt_number": 12
    },
    {
     "cell_type": "heading",
     "level": 2,
     "metadata": {},
     "source": [
      "6- And the main part is found here. That's where we test our implementation of MLP"
     ]
    },
    {
     "cell_type": "heading",
     "level": 3,
     "metadata": {},
     "source": [
      "6.1- Test function"
     ]
    },
    {
     "cell_type": "code",
     "collapsed": false,
     "input": [
      "    # Simulation d'une fonction\n",
      "    # seed the random generator\n",
      "    np.random.seed(100)\n",
      "    # Declare the MLP class\n",
      "    # The network is composed of two hidden layers of 4 nodes each\n",
      "    network = MLP(topology=[1, 4, 4, 1])\n",
      "    # The input range\n",
      "    x = np.arange(-10, 10.1, 0.25)\n",
      "    x = x.reshape(1, x.shape[0])\n",
      "    # The function to fit\n",
      "    y = test_function(x)\n",
      "    # As the sigmoid function returns a value in the range [0; 1], we reshape the expected result to fit inside this window\n",
      "    y_min = np.min(y)\n",
      "    y_max = np.max(y)\n",
      "    y_to_fit = 0.9 * (y - y_min) / (y_max - y_min) + 0.1\n",
      "    # Training of our network\n",
      "    for n in xrange(int(1e3)):\n",
      "        network.train(x, y_to_fit, learning_rate=0.01)\n",
      "        fit = [((network.output(i)[0, 0] - 0.1) * (y_max - y_min) + y_min) / 0.9 for i in x.T]    \n",
      "    # Plot the result\n",
      "    plt.plot(x.flatten(), y.flatten(), '.r')\n",
      "    plt.plot(x.flatten(), fit)\n",
      "    plt.ylim((y_min-0.1, y_max+0.1))\n",
      "    plt.legend(('Expected','Fit'))\n",
      "    plt.draw()"
     ],
     "language": "python",
     "metadata": {},
     "outputs": [
      {
       "metadata": {},
       "output_type": "display_data",
       "png": "[encoded data removed]",
       "text": [
        "<matplotlib.figure.Figure at 0xb549c18>"
       ]
      }
     ],
     "prompt_number": 13
    },
    {
     "cell_type": "heading",
     "level": 3,
     "metadata": {},
     "source": [
      "6.2- XOR function"
     ]
    },
    {
     "cell_type": "code",
     "collapsed": false,
     "input": [
      "    # Simulation d'une fonction XOR\n",
      "    network = MLP(topology=[2, 2, 4, 1])\n",
      "    X = np.array([[0, 1, 0, 1], [0, 0, 1, 1]])\n",
      "    y = np.array([0, 1, 1, 0])\n",
      "    for n in xrange(int(1e3)):\n",
      "        network.train(X, y, learning_rate=0.9)\n",
      "    print 'Fonction XOR'\n",
      "    print 'Input\\tOutput\\tQuantized'\n",
      "    for i in [[0, 0], [1, 0], [0, 1], [1, 1]]:\n",
      "        print '{}\\t{:.4f}\\t{}'.format(i, network.output(i)[0, 0], 1*(network.output(i)[0] > .5))"
     ],
     "language": "python",
     "metadata": {},
     "outputs": [
      {
       "output_type": "stream",
       "stream": "stdout",
       "text": [
        "Fonction XOR\n",
        "Input\tOutput\tQuantized\n",
        "[0, 0]\t0.0180\t[0]\n",
        "[1, 0]\t0.9831\t[1]\n",
        "[0, 1]\t0.9856\t[1]\n",
        "[1, 1]\t0.0142\t[0]\n"
       ]
      }
     ],
     "prompt_number": 14
    },
    {
     "cell_type": "heading",
     "level": 3,
     "metadata": {},
     "source": [
      "6.3- OR function"
     ]
    },
    {
     "cell_type": "code",
     "collapsed": false,
     "input": [
      "    # Simulation d'une fonction OR\n",
      "    network = MLP(topology=[2, 2, 4, 1])\n",
      "    X = np.array([[0, 1, 0, 1], [0, 0, 1, 1]])\n",
      "    y = np.array([0, 1, 1, 1])\n",
      "    for n in xrange(int(1e3)):\n",
      "        network.train(X, y, learning_rate=0.9)\n",
      "    print 'Fonction OR'\n",
      "    print 'Input\\tOutput\\tQuantized'\n",
      "    for i in [[0, 0], [1, 0], [0, 1], [1, 1]]:\n",
      "        print '{}\\t{:.4f}\\t{}'.format(i, network.output(i)[0, 0], 1*(network.output(i)[0] > .5))"
     ],
     "language": "python",
     "metadata": {},
     "outputs": [
      {
       "output_type": "stream",
       "stream": "stdout",
       "text": [
        "Fonction OR\n",
        "Input\tOutput\tQuantized\n",
        "[0, 0]\t0.0218\t[0]\n",
        "[1, 0]\t0.9912\t[1]\n",
        "[0, 1]\t0.9912\t[1]\n",
        "[1, 1]\t0.9983\t[1]\n"
       ]
      }
     ],
     "prompt_number": 15
    },
    {
     "cell_type": "code",
     "collapsed": false,
     "input": [],
     "language": "python",
     "metadata": {},
     "outputs": [],
     "prompt_number": 15
    }
   ],
   "metadata": {}
  }
 ]
}